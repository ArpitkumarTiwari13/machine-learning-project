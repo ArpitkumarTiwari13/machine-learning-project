{
  "cells": [
    {
      "cell_type": "markdown",
      "metadata": {
        "id": "view-in-github",
        "colab_type": "text"
      },
      "source": [
        "<a href=\"https://colab.research.google.com/github/ArpitkumarTiwari13/machine-learning-project/blob/main/APIs_complete.ipynb\" target=\"_parent\"><img src=\"https://colab.research.google.com/assets/colab-badge.svg\" alt=\"Open In Colab\"/></a>"
      ]
    },
    {
      "cell_type": "markdown",
      "metadata": {
        "id": "jHIwgCeHUwW2"
      },
      "source": [
        "# Extract data from public APIs - GET request"
      ]
    },
    {
      "cell_type": "code",
      "execution_count": null,
      "metadata": {
        "id": "-9WvqyAsUwW-"
      },
      "outputs": [],
      "source": [
        "# loading the packages\n",
        "# requests provides us with the capabilities of sending an HTTP request to a server\n",
        "import requests"
      ]
    },
    {
      "cell_type": "markdown",
      "metadata": {
        "id": "OsdVR--GUwXB"
      },
      "source": [
        "## Extracting data on currency exchange rates"
      ]
    },
    {
      "cell_type": "code",
      "execution_count": null,
      "metadata": {
        "id": "EKwhf32GUwXC"
      },
      "outputs": [],
      "source": [
        "# We will use an API containing currency exchange rates as published by the European Central Bank\n",
        "# Documentation at https://exchangeratesapi.io"
      ]
    },
    {
      "cell_type": "markdown",
      "metadata": {
        "id": "6QGnQ3jSUwXD"
      },
      "source": [
        "### Sending a GET request"
      ]
    },
    {
      "cell_type": "code",
      "execution_count": null,
      "metadata": {
        "id": "snDjQT4PUwXE"
      },
      "outputs": [],
      "source": [
        "# Define the base URL\n",
        "# Base URL: the part of the URL common to all requests, not containing the parameters\n",
        "base_url = \"https://api.data.gov.in/resource/6c0a9e43-360f-460b-91a1-02837d827f3a?api-key=579b464db66ec23bdd000001fc585ec4b0b848bc54294954b56a7de5%20&format=json&limit=1000\""
      ]
    },
    {
      "cell_type": "code",
      "execution_count": null,
      "metadata": {
        "id": "-x4LUuWDUwXF"
      },
      "outputs": [],
      "source": [
        "# We can make a GET request to this API endpoint with requests.get\n",
        "response = requests.get(base_url)\n",
        "\n",
        "# This method returns the response from the server\n",
        "# We store this response in a variable for future processing"
      ]
    },
    {
      "cell_type": "markdown",
      "metadata": {
        "id": "zz-hG4toUwXG"
      },
      "source": [
        "### Investigating the response"
      ]
    },
    {
      "cell_type": "code",
      "execution_count": null,
      "metadata": {
        "colab": {
          "base_uri": "https://localhost:8080/"
        },
        "id": "ionB7zF5UwXH",
        "outputId": "cac868ee-5042-4f5e-f03b-f262640d0f72"
      },
      "outputs": [
        {
          "output_type": "execute_result",
          "data": {
            "text/plain": [
              "True"
            ]
          },
          "metadata": {},
          "execution_count": 5
        }
      ],
      "source": [
        "# Checking if the request went through ok\n",
        "response.ok"
      ]
    },
    {
      "cell_type": "code",
      "execution_count": null,
      "metadata": {
        "colab": {
          "base_uri": "https://localhost:8080/"
        },
        "id": "--pQJ_huUwXL",
        "outputId": "217a52e1-2799-42e6-d0a4-aa8ca0aacd0a"
      },
      "outputs": [
        {
          "output_type": "execute_result",
          "data": {
            "text/plain": [
              "200"
            ]
          },
          "metadata": {},
          "execution_count": 6
        }
      ],
      "source": [
        "# Checking the status code of the response\n",
        "response.status_code"
      ]
    },
    {
      "cell_type": "code",
      "execution_count": null,
      "metadata": {
        "colab": {
          "base_uri": "https://localhost:8080/",
          "height": 174
        },
        "id": "HCel92RaUwXN",
        "outputId": "f28ed454-14dc-41ab-9fd1-89b0fd27ef10"
      },
      "outputs": [
        {
          "output_type": "execute_result",
          "data": {
            "text/plain": [
              "'{\\n    \"index_name\": \"6c0a9e43-360f-460b-91a1-02837d827f3a\",\\n    \"title\": \"Top 15 Source Countries for Foreign Tourist Arrivals (FTAs) in India during 2019 & 2020\",\\n    \"desc\": \"Top 15 Source Countries for Foreign Tourist Arrivals (FTAs) in India during 2019 & 2020\",\\n    \"created\": \"1652959852515\",\\n    \"updated\": 1652959880,\\n    \"created_date\": \"2022-05-19T17:01:14Z\",\\n    \"updated_date\": \"2022-05-19T17:01:20Z\",\\n    \"active\": \"1\",\\n    \"visualizable\": \"1\",\\n    \"catalog_uuid\": \"ac273ebc-aa3b-4d3d-8e1d-b89443412f96\",\\n    \"source\": \"data.gov.in\",\\n    \"org_type\": \"Central\",\\n    \"org\": [\\n        \"Ministry of Tourism\"\\n    ],\\n    \"sector\": [\\n        \"Travel and Tourism\"\\n    ],\\n    \"field\": [\\n        {\\n            \"id\": \"rank_in_2019\",\\n            \"name\": \"Rank in 2019\",\\n            \"type\": \"keyword\"\\n        },\\n        {\\n            \"id\": \"country\",\\n            \"name\": \"Country\",\\n            \"type\": \"keyword\"\\n        },\\n        {\\n            \"id\": \"ftas_in_india_in_2019\",\\n            \"name\": \"FTAs in India in 2019\",\\n            \"type\": \"double\"\\n        },\\n        {\\n            \"id\": \"_share_in_2019\",\\n            \"name\": \"%Share in 2019\",\\n            \"type\": \"double\"\\n        },\\n        {\\n            \"id\": \"rank_in_2020\",\\n            \"name\": \"Rank in 2020\",\\n            \"type\": \"keyword\"\\n        },\\n        {\\n            \"id\": \"country\",\\n            \"name\": \"Country\",\\n            \"type\": \"keyword\"\\n        },\\n        {\\n            \"id\": \"ftas_in_india_in_2020\",\\n            \"name\": \"FTAs in India in 2020\",\\n            \"type\": \"double\"\\n        },\\n        {\\n            \"id\": \"_share_in_2020\",\\n            \"name\": \"%Share in 2020\",\\n            \"type\": \"double\"\\n        }\\n    ],\\n    \"target_bucket\": {\\n        \"index\": \"api\",\\n        \"type\": \"ac273ebc-aa3b-4d3d-8e1d-b89443412f96\",\\n        \"field\": \"6c0a9e43-360f-460b-91a1-02837d827f3a\"\\n    },\\n    \"message\": \"Resource lists\",\\n    \"version\": \"2.2.0\",\\n    \"status\": \"ok\",\\n    \"total\": 18,\\n    \"count\": 18,\\n    \"limit\": \"1000\",\\n    \"offset\": \"0\",\\n    \"records\": [\\n        {\\n            \"rank_in_2019\": \"1\",\\n            \"country\": \"BANGLADESH\",\\n            \"ftas_in_india_in_2019\": 2577727,\\n            \"_share_in_2019\": 23.600000000000001,\\n            \"rank_in_2020\": \"1\",\\n            \"ftas_in_india_in_2020\": 549273,\\n            \"_share_in_2020\": 20\\n        },\\n        {\\n            \"rank_in_2019\": \"2\",\\n            \"country\": \"UNITED STATES\",\\n            \"ftas_in_india_in_2019\": 1512032,\\n            \"_share_in_2019\": 13.800000000000001,\\n            \"rank_in_2020\": \"2\",\\n            \"ftas_in_india_in_2020\": 394092,\\n            \"_share_in_2020\": 14.4\\n        },\\n        {\\n            \"rank_in_2019\": \"3\",\\n            \"country\": \"UNITED KINGDOM\",\\n            \"ftas_in_india_in_2019\": 1000292,\\n            \"_share_in_2019\": 9.1999999999999993,\\n            \"rank_in_2020\": \"3\",\\n            \"ftas_in_india_in_2020\": 291874,\\n            \"_share_in_2020\": 10.6\\n        },\\n        {\\n            \"rank_in_2019\": \"4\",\\n            \"country\": \"CANADA\",\\n            \"ftas_in_india_in_2019\": 367241,\\n            \"_share_in_2019\": 3.3999999999999999,\\n            \"rank_in_2020\": \"4\",\\n            \"ftas_in_india_in_2020\": 122868,\\n            \"_share_in_2020\": 4.5\\n        },\\n        {\\n            \"rank_in_2019\": \"5\",\\n            \"country\": \"RUSSIAN FEDERATION\",\\n            \"ftas_in_india_in_2019\": 351859,\\n            \"_share_in_2019\": 3.2000000000000002,\\n            \"rank_in_2020\": \"5\",\\n            \"ftas_in_india_in_2020\": 102166,\\n            \"_share_in_2020\": 3.7000000000000002\\n        },\\n        {\\n            \"rank_in_2019\": \"6\",\\n            \"country\": \"AUSTRALIA\",\\n            \"ftas_in_india_in_2019\": 339442,\\n            \"_share_in_2019\": 3.1000000000000001,\\n            \"rank_in_2020\": \"6\",\\n            \"ftas_in_india_in_2020\": 86758,\\n            \"_share_in_2020\": 3.2000000000000002\\n        },\\n        {\\n            \"rank_in_2019\": \"7\",\\n            \"country\": \"FRANCE\",\\n            \"ftas_in_india_in_2019\": 334579,\\n            \"_share_in_2019\": 3.1000000000000001,\\n            \"rank_in_2020\": \"7\",\\n            \"ftas_in_india_in_2020\": 74243,\\n            \"_share_in_2020\": 2.7000000000000002\\n        },\\n        {\\n            \"rank_in_2019\": \"8\",\\n            \"country\": \"GERMANY\",\\n            \"ftas_in_india_in_2019\": 330861,\\n            \"_share_in_2019\": 3,\\n            \"rank_in_2020\": \"8\",\\n            \"ftas_in_india_in_2020\": 72558,\\n            \"_share_in_2020\": 2.6000000000000001\\n        },\\n        {\\n            \"rank_in_2019\": \"9\",\\n            \"country\": \"MALAYSIA\",\\n            \"ftas_in_india_in_2019\": 264973,\\n            \"_share_in_2019\": 2.3999999999999999,\\n            \"rank_in_2020\": \"9\",\\n            \"ftas_in_india_in_2020\": 69897,\\n            \"_share_in_2020\": 2.5\\n        },\\n        {\\n            \"rank_in_2019\": \"10\",\\n            \"country\": \"SRI LANKA\",\\n            \"ftas_in_india_in_2019\": 251319,\\n            \"_share_in_2019\": 2.2999999999999998,\\n            \"rank_in_2020\": \"10\",\\n            \"ftas_in_india_in_2020\": 68646,\\n            \"_share_in_2020\": 2.5\\n        },\\n        {\\n            \"rank_in_2019\": \"11\",\\n            \"country\": \"THAILAND\",\\n            \"ftas_in_india_in_2019\": 247238,\\n            \"_share_in_2019\": 2.2999999999999998,\\n            \"rank_in_2020\": \"11\",\\n            \"ftas_in_india_in_2020\": 52626,\\n            \"_share_in_2020\": 1.8999999999999999\\n        },\\n        {\\n            \"rank_in_2019\": \"12\",\\n            \"country\": \"JAPAN\",\\n            \"ftas_in_india_in_2019\": 238903,\\n            \"_share_in_2019\": 2.2000000000000002,\\n            \"rank_in_2020\": \"12\",\\n            \"ftas_in_india_in_2020\": 48191,\\n            \"_share_in_2020\": 1.8\\n        },\\n        {\\n            \"rank_in_2019\": \"13\",\\n            \"country\": \"AFGHANISTAN\",\\n            \"ftas_in_india_in_2019\": 190089,\\n            \"_share_in_2019\": 1.7,\\n            \"rank_in_2020\": \"13\",\\n            \"ftas_in_india_in_2020\": 47561,\\n            \"_share_in_2020\": 1.7\\n        },\\n        {\\n            \"rank_in_2019\": \"14\",\\n            \"country\": \"NEPAL\",\\n            \"ftas_in_india_in_2019\": 169956,\\n            \"_share_in_2019\": 1.6000000000000001,\\n            \"rank_in_2020\": \"14\",\\n            \"ftas_in_india_in_2020\": 40822,\\n            \"_share_in_2020\": 1.5\\n        },\\n        {\\n            \"rank_in_2019\": \"15\",\\n            \"country\": \"CHINA\",\\n            \"ftas_in_india_in_2019\": 164040,\\n            \"_share_in_2019\": 1.5,\\n            \"rank_in_2020\": \"15\",\\n            \"ftas_in_india_in_2020\": 39586,\\n            \"_share_in_2020\": 1.3999999999999999\\n        },\\n        {\\n            \"rank_in_2019\": \"Total Top 15 Countries\",\\n            \"country\": \"Total Top 15 Countries\",\\n            \"ftas_in_india_in_2019\": 8340551,\\n            \"_share_in_2019\": 76.299999999999997,\\n            \"rank_in_2020\": \"Total Top 15 Countries\",\\n            \"ftas_in_india_in_2020\": 2061161,\\n            \"_share_in_2020\": 75.099999999999994\\n        },\\n        {\\n            \"rank_in_2019\": \"Other Countries\",\\n            \"country\": \"Other Countries\",\\n            \"ftas_in_india_in_2019\": 2589804,\\n            \"_share_in_2019\": 23.699999999999999,\\n            \"rank_in_2020\": \"Other Countries\",\\n            \"ftas_in_india_in_2020\": 683605,\\n            \"_share_in_2020\": 24.899999999999999\\n        },\\n        {\\n            \"rank_in_2019\": \"Grand Total\",\\n            \"country\": \"Grand Total\",\\n            \"ftas_in_india_in_2019\": 10930355,\\n            \"_share_in_2019\": 100,\\n            \"rank_in_2020\": \"Grand Total\",\\n            \"ftas_in_india_in_2020\": 2744766,\\n            \"_share_in_2020\": 100\\n        }\\n    ]\\n}'"
            ],
            "application/vnd.google.colaboratory.intrinsic+json": {
              "type": "string"
            }
          },
          "metadata": {},
          "execution_count": 7
        }
      ],
      "source": [
        "# Inspecting the content body of the response (as a regular 'string')\n",
        "response.text"
      ]
    },
    {
      "cell_type": "code",
      "execution_count": null,
      "metadata": {
        "colab": {
          "base_uri": "https://localhost:8080/"
        },
        "id": "AVB88vDGUwXP",
        "outputId": "a18166e9-7883-4ecd-dad0-d702f474babc"
      },
      "outputs": [
        {
          "output_type": "execute_result",
          "data": {
            "text/plain": [
              "b'{\\n    \"index_name\": \"6c0a9e43-360f-460b-91a1-02837d827f3a\",\\n    \"title\": \"Top 15 Source Countries for Foreign Tourist Arrivals (FTAs) in India during 2019 & 2020\",\\n    \"desc\": \"Top 15 Source Countries for Foreign Tourist Arrivals (FTAs) in India during 2019 & 2020\",\\n    \"created\": \"1652959852515\",\\n    \"updated\": 1652959880,\\n    \"created_date\": \"2022-05-19T17:01:14Z\",\\n    \"updated_date\": \"2022-05-19T17:01:20Z\",\\n    \"active\": \"1\",\\n    \"visualizable\": \"1\",\\n    \"catalog_uuid\": \"ac273ebc-aa3b-4d3d-8e1d-b89443412f96\",\\n    \"source\": \"data.gov.in\",\\n    \"org_type\": \"Central\",\\n    \"org\": [\\n        \"Ministry of Tourism\"\\n    ],\\n    \"sector\": [\\n        \"Travel and Tourism\"\\n    ],\\n    \"field\": [\\n        {\\n            \"id\": \"rank_in_2019\",\\n            \"name\": \"Rank in 2019\",\\n            \"type\": \"keyword\"\\n        },\\n        {\\n            \"id\": \"country\",\\n            \"name\": \"Country\",\\n            \"type\": \"keyword\"\\n        },\\n        {\\n            \"id\": \"ftas_in_india_in_2019\",\\n            \"name\": \"FTAs in India in 2019\",\\n            \"type\": \"double\"\\n        },\\n        {\\n            \"id\": \"_share_in_2019\",\\n            \"name\": \"%Share in 2019\",\\n            \"type\": \"double\"\\n        },\\n        {\\n            \"id\": \"rank_in_2020\",\\n            \"name\": \"Rank in 2020\",\\n            \"type\": \"keyword\"\\n        },\\n        {\\n            \"id\": \"country\",\\n            \"name\": \"Country\",\\n            \"type\": \"keyword\"\\n        },\\n        {\\n            \"id\": \"ftas_in_india_in_2020\",\\n            \"name\": \"FTAs in India in 2020\",\\n            \"type\": \"double\"\\n        },\\n        {\\n            \"id\": \"_share_in_2020\",\\n            \"name\": \"%Share in 2020\",\\n            \"type\": \"double\"\\n        }\\n    ],\\n    \"target_bucket\": {\\n        \"index\": \"api\",\\n        \"type\": \"ac273ebc-aa3b-4d3d-8e1d-b89443412f96\",\\n        \"field\": \"6c0a9e43-360f-460b-91a1-02837d827f3a\"\\n    },\\n    \"message\": \"Resource lists\",\\n    \"version\": \"2.2.0\",\\n    \"status\": \"ok\",\\n    \"total\": 18,\\n    \"count\": 18,\\n    \"limit\": \"1000\",\\n    \"offset\": \"0\",\\n    \"records\": [\\n        {\\n            \"rank_in_2019\": \"1\",\\n            \"country\": \"BANGLADESH\",\\n            \"ftas_in_india_in_2019\": 2577727,\\n            \"_share_in_2019\": 23.600000000000001,\\n            \"rank_in_2020\": \"1\",\\n            \"ftas_in_india_in_2020\": 549273,\\n            \"_share_in_2020\": 20\\n        },\\n        {\\n            \"rank_in_2019\": \"2\",\\n            \"country\": \"UNITED STATES\",\\n            \"ftas_in_india_in_2019\": 1512032,\\n            \"_share_in_2019\": 13.800000000000001,\\n            \"rank_in_2020\": \"2\",\\n            \"ftas_in_india_in_2020\": 394092,\\n            \"_share_in_2020\": 14.4\\n        },\\n        {\\n            \"rank_in_2019\": \"3\",\\n            \"country\": \"UNITED KINGDOM\",\\n            \"ftas_in_india_in_2019\": 1000292,\\n            \"_share_in_2019\": 9.1999999999999993,\\n            \"rank_in_2020\": \"3\",\\n            \"ftas_in_india_in_2020\": 291874,\\n            \"_share_in_2020\": 10.6\\n        },\\n        {\\n            \"rank_in_2019\": \"4\",\\n            \"country\": \"CANADA\",\\n            \"ftas_in_india_in_2019\": 367241,\\n            \"_share_in_2019\": 3.3999999999999999,\\n            \"rank_in_2020\": \"4\",\\n            \"ftas_in_india_in_2020\": 122868,\\n            \"_share_in_2020\": 4.5\\n        },\\n        {\\n            \"rank_in_2019\": \"5\",\\n            \"country\": \"RUSSIAN FEDERATION\",\\n            \"ftas_in_india_in_2019\": 351859,\\n            \"_share_in_2019\": 3.2000000000000002,\\n            \"rank_in_2020\": \"5\",\\n            \"ftas_in_india_in_2020\": 102166,\\n            \"_share_in_2020\": 3.7000000000000002\\n        },\\n        {\\n            \"rank_in_2019\": \"6\",\\n            \"country\": \"AUSTRALIA\",\\n            \"ftas_in_india_in_2019\": 339442,\\n            \"_share_in_2019\": 3.1000000000000001,\\n            \"rank_in_2020\": \"6\",\\n            \"ftas_in_india_in_2020\": 86758,\\n            \"_share_in_2020\": 3.2000000000000002\\n        },\\n        {\\n            \"rank_in_2019\": \"7\",\\n            \"country\": \"FRANCE\",\\n            \"ftas_in_india_in_2019\": 334579,\\n            \"_share_in_2019\": 3.1000000000000001,\\n            \"rank_in_2020\": \"7\",\\n            \"ftas_in_india_in_2020\": 74243,\\n            \"_share_in_2020\": 2.7000000000000002\\n        },\\n        {\\n            \"rank_in_2019\": \"8\",\\n            \"country\": \"GERMANY\",\\n            \"ftas_in_india_in_2019\": 330861,\\n            \"_share_in_2019\": 3,\\n            \"rank_in_2020\": \"8\",\\n            \"ftas_in_india_in_2020\": 72558,\\n            \"_share_in_2020\": 2.6000000000000001\\n        },\\n        {\\n            \"rank_in_2019\": \"9\",\\n            \"country\": \"MALAYSIA\",\\n            \"ftas_in_india_in_2019\": 264973,\\n            \"_share_in_2019\": 2.3999999999999999,\\n            \"rank_in_2020\": \"9\",\\n            \"ftas_in_india_in_2020\": 69897,\\n            \"_share_in_2020\": 2.5\\n        },\\n        {\\n            \"rank_in_2019\": \"10\",\\n            \"country\": \"SRI LANKA\",\\n            \"ftas_in_india_in_2019\": 251319,\\n            \"_share_in_2019\": 2.2999999999999998,\\n            \"rank_in_2020\": \"10\",\\n            \"ftas_in_india_in_2020\": 68646,\\n            \"_share_in_2020\": 2.5\\n        },\\n        {\\n            \"rank_in_2019\": \"11\",\\n            \"country\": \"THAILAND\",\\n            \"ftas_in_india_in_2019\": 247238,\\n            \"_share_in_2019\": 2.2999999999999998,\\n            \"rank_in_2020\": \"11\",\\n            \"ftas_in_india_in_2020\": 52626,\\n            \"_share_in_2020\": 1.8999999999999999\\n        },\\n        {\\n            \"rank_in_2019\": \"12\",\\n            \"country\": \"JAPAN\",\\n            \"ftas_in_india_in_2019\": 238903,\\n            \"_share_in_2019\": 2.2000000000000002,\\n            \"rank_in_2020\": \"12\",\\n            \"ftas_in_india_in_2020\": 48191,\\n            \"_share_in_2020\": 1.8\\n        },\\n        {\\n            \"rank_in_2019\": \"13\",\\n            \"country\": \"AFGHANISTAN\",\\n            \"ftas_in_india_in_2019\": 190089,\\n            \"_share_in_2019\": 1.7,\\n            \"rank_in_2020\": \"13\",\\n            \"ftas_in_india_in_2020\": 47561,\\n            \"_share_in_2020\": 1.7\\n        },\\n        {\\n            \"rank_in_2019\": \"14\",\\n            \"country\": \"NEPAL\",\\n            \"ftas_in_india_in_2019\": 169956,\\n            \"_share_in_2019\": 1.6000000000000001,\\n            \"rank_in_2020\": \"14\",\\n            \"ftas_in_india_in_2020\": 40822,\\n            \"_share_in_2020\": 1.5\\n        },\\n        {\\n            \"rank_in_2019\": \"15\",\\n            \"country\": \"CHINA\",\\n            \"ftas_in_india_in_2019\": 164040,\\n            \"_share_in_2019\": 1.5,\\n            \"rank_in_2020\": \"15\",\\n            \"ftas_in_india_in_2020\": 39586,\\n            \"_share_in_2020\": 1.3999999999999999\\n        },\\n        {\\n            \"rank_in_2019\": \"Total Top 15 Countries\",\\n            \"country\": \"Total Top 15 Countries\",\\n            \"ftas_in_india_in_2019\": 8340551,\\n            \"_share_in_2019\": 76.299999999999997,\\n            \"rank_in_2020\": \"Total Top 15 Countries\",\\n            \"ftas_in_india_in_2020\": 2061161,\\n            \"_share_in_2020\": 75.099999999999994\\n        },\\n        {\\n            \"rank_in_2019\": \"Other Countries\",\\n            \"country\": \"Other Countries\",\\n            \"ftas_in_india_in_2019\": 2589804,\\n            \"_share_in_2019\": 23.699999999999999,\\n            \"rank_in_2020\": \"Other Countries\",\\n            \"ftas_in_india_in_2020\": 683605,\\n            \"_share_in_2020\": 24.899999999999999\\n        },\\n        {\\n            \"rank_in_2019\": \"Grand Total\",\\n            \"country\": \"Grand Total\",\\n            \"ftas_in_india_in_2019\": 10930355,\\n            \"_share_in_2019\": 100,\\n            \"rank_in_2020\": \"Grand Total\",\\n            \"ftas_in_india_in_2020\": 2744766,\\n            \"_share_in_2020\": 100\\n        }\\n    ]\\n}'"
            ]
          },
          "metadata": {},
          "execution_count": 8
        }
      ],
      "source": [
        "# Inspecting the content of the response (in 'bytes' format)\n",
        "response.content"
      ]
    },
    {
      "cell_type": "code",
      "execution_count": null,
      "metadata": {
        "id": "F0TF__0OUwYZ"
      },
      "outputs": [],
      "source": [
        "# The data is presented in JSON format"
      ]
    },
    {
      "cell_type": "markdown",
      "metadata": {
        "id": "O7gTH-XwUwYa"
      },
      "source": [
        "### Handling the JSON"
      ]
    },
    {
      "cell_type": "code",
      "execution_count": null,
      "metadata": {
        "colab": {
          "base_uri": "https://localhost:8080/"
        },
        "id": "OGQTHoWsUwYa",
        "outputId": "81d7f5fe-faa8-4d23-c96b-6ad81724a728"
      },
      "outputs": [
        {
          "output_type": "execute_result",
          "data": {
            "text/plain": [
              "{'active': '1',\n",
              " 'catalog_uuid': 'ac273ebc-aa3b-4d3d-8e1d-b89443412f96',\n",
              " 'count': 18,\n",
              " 'created': '1652959852515',\n",
              " 'created_date': '2022-05-19T17:01:14Z',\n",
              " 'desc': 'Top 15 Source Countries for Foreign Tourist Arrivals (FTAs) in India during 2019 & 2020',\n",
              " 'field': [{'id': 'rank_in_2019', 'name': 'Rank in 2019', 'type': 'keyword'},\n",
              "  {'id': 'country', 'name': 'Country', 'type': 'keyword'},\n",
              "  {'id': 'ftas_in_india_in_2019',\n",
              "   'name': 'FTAs in India in 2019',\n",
              "   'type': 'double'},\n",
              "  {'id': '_share_in_2019', 'name': '%Share in 2019', 'type': 'double'},\n",
              "  {'id': 'rank_in_2020', 'name': 'Rank in 2020', 'type': 'keyword'},\n",
              "  {'id': 'country', 'name': 'Country', 'type': 'keyword'},\n",
              "  {'id': 'ftas_in_india_in_2020',\n",
              "   'name': 'FTAs in India in 2020',\n",
              "   'type': 'double'},\n",
              "  {'id': '_share_in_2020', 'name': '%Share in 2020', 'type': 'double'}],\n",
              " 'index_name': '6c0a9e43-360f-460b-91a1-02837d827f3a',\n",
              " 'limit': '1000',\n",
              " 'message': 'Resource lists',\n",
              " 'offset': '0',\n",
              " 'org': ['Ministry of Tourism'],\n",
              " 'org_type': 'Central',\n",
              " 'records': [{'_share_in_2019': 23.6,\n",
              "   '_share_in_2020': 20,\n",
              "   'country': 'BANGLADESH',\n",
              "   'ftas_in_india_in_2019': 2577727,\n",
              "   'ftas_in_india_in_2020': 549273,\n",
              "   'rank_in_2019': '1',\n",
              "   'rank_in_2020': '1'},\n",
              "  {'_share_in_2019': 13.8,\n",
              "   '_share_in_2020': 14.4,\n",
              "   'country': 'UNITED STATES',\n",
              "   'ftas_in_india_in_2019': 1512032,\n",
              "   'ftas_in_india_in_2020': 394092,\n",
              "   'rank_in_2019': '2',\n",
              "   'rank_in_2020': '2'},\n",
              "  {'_share_in_2019': 9.2,\n",
              "   '_share_in_2020': 10.6,\n",
              "   'country': 'UNITED KINGDOM',\n",
              "   'ftas_in_india_in_2019': 1000292,\n",
              "   'ftas_in_india_in_2020': 291874,\n",
              "   'rank_in_2019': '3',\n",
              "   'rank_in_2020': '3'},\n",
              "  {'_share_in_2019': 3.4,\n",
              "   '_share_in_2020': 4.5,\n",
              "   'country': 'CANADA',\n",
              "   'ftas_in_india_in_2019': 367241,\n",
              "   'ftas_in_india_in_2020': 122868,\n",
              "   'rank_in_2019': '4',\n",
              "   'rank_in_2020': '4'},\n",
              "  {'_share_in_2019': 3.2,\n",
              "   '_share_in_2020': 3.7,\n",
              "   'country': 'RUSSIAN FEDERATION',\n",
              "   'ftas_in_india_in_2019': 351859,\n",
              "   'ftas_in_india_in_2020': 102166,\n",
              "   'rank_in_2019': '5',\n",
              "   'rank_in_2020': '5'},\n",
              "  {'_share_in_2019': 3.1,\n",
              "   '_share_in_2020': 3.2,\n",
              "   'country': 'AUSTRALIA',\n",
              "   'ftas_in_india_in_2019': 339442,\n",
              "   'ftas_in_india_in_2020': 86758,\n",
              "   'rank_in_2019': '6',\n",
              "   'rank_in_2020': '6'},\n",
              "  {'_share_in_2019': 3.1,\n",
              "   '_share_in_2020': 2.7,\n",
              "   'country': 'FRANCE',\n",
              "   'ftas_in_india_in_2019': 334579,\n",
              "   'ftas_in_india_in_2020': 74243,\n",
              "   'rank_in_2019': '7',\n",
              "   'rank_in_2020': '7'},\n",
              "  {'_share_in_2019': 3,\n",
              "   '_share_in_2020': 2.6,\n",
              "   'country': 'GERMANY',\n",
              "   'ftas_in_india_in_2019': 330861,\n",
              "   'ftas_in_india_in_2020': 72558,\n",
              "   'rank_in_2019': '8',\n",
              "   'rank_in_2020': '8'},\n",
              "  {'_share_in_2019': 2.4,\n",
              "   '_share_in_2020': 2.5,\n",
              "   'country': 'MALAYSIA',\n",
              "   'ftas_in_india_in_2019': 264973,\n",
              "   'ftas_in_india_in_2020': 69897,\n",
              "   'rank_in_2019': '9',\n",
              "   'rank_in_2020': '9'},\n",
              "  {'_share_in_2019': 2.3,\n",
              "   '_share_in_2020': 2.5,\n",
              "   'country': 'SRI LANKA',\n",
              "   'ftas_in_india_in_2019': 251319,\n",
              "   'ftas_in_india_in_2020': 68646,\n",
              "   'rank_in_2019': '10',\n",
              "   'rank_in_2020': '10'},\n",
              "  {'_share_in_2019': 2.3,\n",
              "   '_share_in_2020': 1.9,\n",
              "   'country': 'THAILAND',\n",
              "   'ftas_in_india_in_2019': 247238,\n",
              "   'ftas_in_india_in_2020': 52626,\n",
              "   'rank_in_2019': '11',\n",
              "   'rank_in_2020': '11'},\n",
              "  {'_share_in_2019': 2.2,\n",
              "   '_share_in_2020': 1.8,\n",
              "   'country': 'JAPAN',\n",
              "   'ftas_in_india_in_2019': 238903,\n",
              "   'ftas_in_india_in_2020': 48191,\n",
              "   'rank_in_2019': '12',\n",
              "   'rank_in_2020': '12'},\n",
              "  {'_share_in_2019': 1.7,\n",
              "   '_share_in_2020': 1.7,\n",
              "   'country': 'AFGHANISTAN',\n",
              "   'ftas_in_india_in_2019': 190089,\n",
              "   'ftas_in_india_in_2020': 47561,\n",
              "   'rank_in_2019': '13',\n",
              "   'rank_in_2020': '13'},\n",
              "  {'_share_in_2019': 1.6,\n",
              "   '_share_in_2020': 1.5,\n",
              "   'country': 'NEPAL',\n",
              "   'ftas_in_india_in_2019': 169956,\n",
              "   'ftas_in_india_in_2020': 40822,\n",
              "   'rank_in_2019': '14',\n",
              "   'rank_in_2020': '14'},\n",
              "  {'_share_in_2019': 1.5,\n",
              "   '_share_in_2020': 1.4,\n",
              "   'country': 'CHINA',\n",
              "   'ftas_in_india_in_2019': 164040,\n",
              "   'ftas_in_india_in_2020': 39586,\n",
              "   'rank_in_2019': '15',\n",
              "   'rank_in_2020': '15'},\n",
              "  {'_share_in_2019': 76.3,\n",
              "   '_share_in_2020': 75.1,\n",
              "   'country': 'Total Top 15 Countries',\n",
              "   'ftas_in_india_in_2019': 8340551,\n",
              "   'ftas_in_india_in_2020': 2061161,\n",
              "   'rank_in_2019': 'Total Top 15 Countries',\n",
              "   'rank_in_2020': 'Total Top 15 Countries'},\n",
              "  {'_share_in_2019': 23.7,\n",
              "   '_share_in_2020': 24.9,\n",
              "   'country': 'Other Countries',\n",
              "   'ftas_in_india_in_2019': 2589804,\n",
              "   'ftas_in_india_in_2020': 683605,\n",
              "   'rank_in_2019': 'Other Countries',\n",
              "   'rank_in_2020': 'Other Countries'},\n",
              "  {'_share_in_2019': 100,\n",
              "   '_share_in_2020': 100,\n",
              "   'country': 'Grand Total',\n",
              "   'ftas_in_india_in_2019': 10930355,\n",
              "   'ftas_in_india_in_2020': 2744766,\n",
              "   'rank_in_2019': 'Grand Total',\n",
              "   'rank_in_2020': 'Grand Total'}],\n",
              " 'sector': ['Travel and Tourism'],\n",
              " 'source': 'data.gov.in',\n",
              " 'status': 'ok',\n",
              " 'target_bucket': {'field': '6c0a9e43-360f-460b-91a1-02837d827f3a',\n",
              "  'index': 'api',\n",
              "  'type': 'ac273ebc-aa3b-4d3d-8e1d-b89443412f96'},\n",
              " 'title': 'Top 15 Source Countries for Foreign Tourist Arrivals (FTAs) in India during 2019 & 2020',\n",
              " 'total': 18,\n",
              " 'updated': 1652959880,\n",
              " 'updated_date': '2022-05-19T17:01:20Z',\n",
              " 'version': '2.2.0',\n",
              " 'visualizable': '1'}"
            ]
          },
          "metadata": {},
          "execution_count": 10
        }
      ],
      "source": [
        "# Requests has in-build method to directly convert the response to JSON format\n",
        "response.json()"
      ]
    },
    {
      "cell_type": "code",
      "execution_count": null,
      "metadata": {
        "colab": {
          "base_uri": "https://localhost:8080/"
        },
        "id": "FWv9i01SUwYb",
        "outputId": "de0224f3-84c7-4a7f-e094-1dae5663776a"
      },
      "outputs": [
        {
          "output_type": "execute_result",
          "data": {
            "text/plain": [
              "dict"
            ]
          },
          "metadata": {},
          "execution_count": 11
        }
      ],
      "source": [
        "# In Python, this JSON is stored as a dictionary\n",
        "type(response.json())"
      ]
    },
    {
      "cell_type": "code",
      "execution_count": null,
      "metadata": {
        "id": "cu6aGJ8SUwYb"
      },
      "outputs": [],
      "source": [
        "# A useful library for JSON manipulation and pretty print\n",
        "import json\n",
        "\n",
        "# It has two main methods:\n",
        "# .loads(), which creates a Python dictionary from a JSON format string (just as response.json() does)\n",
        "# .dumps(), which creates a JSON format string out of a Python dictionary "
      ]
    },
    {
      "cell_type": "code",
      "execution_count": null,
      "metadata": {
        "colab": {
          "base_uri": "https://localhost:8080/",
          "height": 174
        },
        "id": "TawkltHWUwYc",
        "outputId": "d9641b38-1944-47b6-e4c3-ad0da3b24155"
      },
      "outputs": [
        {
          "output_type": "execute_result",
          "data": {
            "text/plain": [
              "'{\\n    \"index_name\": \"6c0a9e43-360f-460b-91a1-02837d827f3a\",\\n    \"title\": \"Top 15 Source Countries for Foreign Tourist Arrivals (FTAs) in India during 2019 & 2020\",\\n    \"desc\": \"Top 15 Source Countries for Foreign Tourist Arrivals (FTAs) in India during 2019 & 2020\",\\n    \"created\": \"1652959852515\",\\n    \"updated\": 1652959880,\\n    \"created_date\": \"2022-05-19T17:01:14Z\",\\n    \"updated_date\": \"2022-05-19T17:01:20Z\",\\n    \"active\": \"1\",\\n    \"visualizable\": \"1\",\\n    \"catalog_uuid\": \"ac273ebc-aa3b-4d3d-8e1d-b89443412f96\",\\n    \"source\": \"data.gov.in\",\\n    \"org_type\": \"Central\",\\n    \"org\": [\\n        \"Ministry of Tourism\"\\n    ],\\n    \"sector\": [\\n        \"Travel and Tourism\"\\n    ],\\n    \"field\": [\\n        {\\n            \"id\": \"rank_in_2019\",\\n            \"name\": \"Rank in 2019\",\\n            \"type\": \"keyword\"\\n        },\\n        {\\n            \"id\": \"country\",\\n            \"name\": \"Country\",\\n            \"type\": \"keyword\"\\n        },\\n        {\\n            \"id\": \"ftas_in_india_in_2019\",\\n            \"name\": \"FTAs in India in 2019\",\\n            \"type\": \"double\"\\n        },\\n        {\\n            \"id\": \"_share_in_2019\",\\n            \"name\": \"%Share in 2019\",\\n            \"type\": \"double\"\\n        },\\n        {\\n            \"id\": \"rank_in_2020\",\\n            \"name\": \"Rank in 2020\",\\n            \"type\": \"keyword\"\\n        },\\n        {\\n            \"id\": \"country\",\\n            \"name\": \"Country\",\\n            \"type\": \"keyword\"\\n        },\\n        {\\n            \"id\": \"ftas_in_india_in_2020\",\\n            \"name\": \"FTAs in India in 2020\",\\n            \"type\": \"double\"\\n        },\\n        {\\n            \"id\": \"_share_in_2020\",\\n            \"name\": \"%Share in 2020\",\\n            \"type\": \"double\"\\n        }\\n    ],\\n    \"target_bucket\": {\\n        \"index\": \"api\",\\n        \"type\": \"ac273ebc-aa3b-4d3d-8e1d-b89443412f96\",\\n        \"field\": \"6c0a9e43-360f-460b-91a1-02837d827f3a\"\\n    },\\n    \"message\": \"Resource lists\",\\n    \"version\": \"2.2.0\",\\n    \"status\": \"ok\",\\n    \"total\": 18,\\n    \"count\": 18,\\n    \"limit\": \"1000\",\\n    \"offset\": \"0\",\\n    \"records\": [\\n        {\\n            \"rank_in_2019\": \"1\",\\n            \"country\": \"BANGLADESH\",\\n            \"ftas_in_india_in_2019\": 2577727,\\n            \"_share_in_2019\": 23.6,\\n            \"rank_in_2020\": \"1\",\\n            \"ftas_in_india_in_2020\": 549273,\\n            \"_share_in_2020\": 20\\n        },\\n        {\\n            \"rank_in_2019\": \"2\",\\n            \"country\": \"UNITED STATES\",\\n            \"ftas_in_india_in_2019\": 1512032,\\n            \"_share_in_2019\": 13.8,\\n            \"rank_in_2020\": \"2\",\\n            \"ftas_in_india_in_2020\": 394092,\\n            \"_share_in_2020\": 14.4\\n        },\\n        {\\n            \"rank_in_2019\": \"3\",\\n            \"country\": \"UNITED KINGDOM\",\\n            \"ftas_in_india_in_2019\": 1000292,\\n            \"_share_in_2019\": 9.2,\\n            \"rank_in_2020\": \"3\",\\n            \"ftas_in_india_in_2020\": 291874,\\n            \"_share_in_2020\": 10.6\\n        },\\n        {\\n            \"rank_in_2019\": \"4\",\\n            \"country\": \"CANADA\",\\n            \"ftas_in_india_in_2019\": 367241,\\n            \"_share_in_2019\": 3.4,\\n            \"rank_in_2020\": \"4\",\\n            \"ftas_in_india_in_2020\": 122868,\\n            \"_share_in_2020\": 4.5\\n        },\\n        {\\n            \"rank_in_2019\": \"5\",\\n            \"country\": \"RUSSIAN FEDERATION\",\\n            \"ftas_in_india_in_2019\": 351859,\\n            \"_share_in_2019\": 3.2,\\n            \"rank_in_2020\": \"5\",\\n            \"ftas_in_india_in_2020\": 102166,\\n            \"_share_in_2020\": 3.7\\n        },\\n        {\\n            \"rank_in_2019\": \"6\",\\n            \"country\": \"AUSTRALIA\",\\n            \"ftas_in_india_in_2019\": 339442,\\n            \"_share_in_2019\": 3.1,\\n            \"rank_in_2020\": \"6\",\\n            \"ftas_in_india_in_2020\": 86758,\\n            \"_share_in_2020\": 3.2\\n        },\\n        {\\n            \"rank_in_2019\": \"7\",\\n            \"country\": \"FRANCE\",\\n            \"ftas_in_india_in_2019\": 334579,\\n            \"_share_in_2019\": 3.1,\\n            \"rank_in_2020\": \"7\",\\n            \"ftas_in_india_in_2020\": 74243,\\n            \"_share_in_2020\": 2.7\\n        },\\n        {\\n            \"rank_in_2019\": \"8\",\\n            \"country\": \"GERMANY\",\\n            \"ftas_in_india_in_2019\": 330861,\\n            \"_share_in_2019\": 3,\\n            \"rank_in_2020\": \"8\",\\n            \"ftas_in_india_in_2020\": 72558,\\n            \"_share_in_2020\": 2.6\\n        },\\n        {\\n            \"rank_in_2019\": \"9\",\\n            \"country\": \"MALAYSIA\",\\n            \"ftas_in_india_in_2019\": 264973,\\n            \"_share_in_2019\": 2.4,\\n            \"rank_in_2020\": \"9\",\\n            \"ftas_in_india_in_2020\": 69897,\\n            \"_share_in_2020\": 2.5\\n        },\\n        {\\n            \"rank_in_2019\": \"10\",\\n            \"country\": \"SRI LANKA\",\\n            \"ftas_in_india_in_2019\": 251319,\\n            \"_share_in_2019\": 2.3,\\n            \"rank_in_2020\": \"10\",\\n            \"ftas_in_india_in_2020\": 68646,\\n            \"_share_in_2020\": 2.5\\n        },\\n        {\\n            \"rank_in_2019\": \"11\",\\n            \"country\": \"THAILAND\",\\n            \"ftas_in_india_in_2019\": 247238,\\n            \"_share_in_2019\": 2.3,\\n            \"rank_in_2020\": \"11\",\\n            \"ftas_in_india_in_2020\": 52626,\\n            \"_share_in_2020\": 1.9\\n        },\\n        {\\n            \"rank_in_2019\": \"12\",\\n            \"country\": \"JAPAN\",\\n            \"ftas_in_india_in_2019\": 238903,\\n            \"_share_in_2019\": 2.2,\\n            \"rank_in_2020\": \"12\",\\n            \"ftas_in_india_in_2020\": 48191,\\n            \"_share_in_2020\": 1.8\\n        },\\n        {\\n            \"rank_in_2019\": \"13\",\\n            \"country\": \"AFGHANISTAN\",\\n            \"ftas_in_india_in_2019\": 190089,\\n            \"_share_in_2019\": 1.7,\\n            \"rank_in_2020\": \"13\",\\n            \"ftas_in_india_in_2020\": 47561,\\n            \"_share_in_2020\": 1.7\\n        },\\n        {\\n            \"rank_in_2019\": \"14\",\\n            \"country\": \"NEPAL\",\\n            \"ftas_in_india_in_2019\": 169956,\\n            \"_share_in_2019\": 1.6,\\n            \"rank_in_2020\": \"14\",\\n            \"ftas_in_india_in_2020\": 40822,\\n            \"_share_in_2020\": 1.5\\n        },\\n        {\\n            \"rank_in_2019\": \"15\",\\n            \"country\": \"CHINA\",\\n            \"ftas_in_india_in_2019\": 164040,\\n            \"_share_in_2019\": 1.5,\\n            \"rank_in_2020\": \"15\",\\n            \"ftas_in_india_in_2020\": 39586,\\n            \"_share_in_2020\": 1.4\\n        },\\n        {\\n            \"rank_in_2019\": \"Total Top 15 Countries\",\\n            \"country\": \"Total Top 15 Countries\",\\n            \"ftas_in_india_in_2019\": 8340551,\\n            \"_share_in_2019\": 76.3,\\n            \"rank_in_2020\": \"Total Top 15 Countries\",\\n            \"ftas_in_india_in_2020\": 2061161,\\n            \"_share_in_2020\": 75.1\\n        },\\n        {\\n            \"rank_in_2019\": \"Other Countries\",\\n            \"country\": \"Other Countries\",\\n            \"ftas_in_india_in_2019\": 2589804,\\n            \"_share_in_2019\": 23.7,\\n            \"rank_in_2020\": \"Other Countries\",\\n            \"ftas_in_india_in_2020\": 683605,\\n            \"_share_in_2020\": 24.9\\n        },\\n        {\\n            \"rank_in_2019\": \"Grand Total\",\\n            \"country\": \"Grand Total\",\\n            \"ftas_in_india_in_2019\": 10930355,\\n            \"_share_in_2019\": 100,\\n            \"rank_in_2020\": \"Grand Total\",\\n            \"ftas_in_india_in_2020\": 2744766,\\n            \"_share_in_2020\": 100\\n        }\\n    ]\\n}'"
            ],
            "application/vnd.google.colaboratory.intrinsic+json": {
              "type": "string"
            }
          },
          "metadata": {},
          "execution_count": 13
        }
      ],
      "source": [
        "# .dumps() has options to make the string 'prettier', more readable\n",
        "# We can choose the number of spaces to be used as indentation\n",
        "json.dumps(response.json(), indent=4)"
      ]
    },
    {
      "cell_type": "code",
      "execution_count": null,
      "metadata": {
        "id": "a3_t1o6TUwYd"
      },
      "outputs": [],
      "source": [
        "# In order to visualize these changes, we need to print the string\n",
        "a=json.dumps(response.json(), indent=4)"
      ]
    },
    {
      "cell_type": "code",
      "source": [
        "type(a)"
      ],
      "metadata": {
        "colab": {
          "base_uri": "https://localhost:8080/"
        },
        "id": "C3_U-Ik2Vz5I",
        "outputId": "f22e2e62-3540-4cea-9bad-e9c0e7c94bad"
      },
      "execution_count": null,
      "outputs": [
        {
          "output_type": "execute_result",
          "data": {
            "text/plain": [
              "str"
            ]
          },
          "metadata": {},
          "execution_count": 15
        }
      ]
    },
    {
      "cell_type": "code",
      "execution_count": null,
      "metadata": {
        "colab": {
          "base_uri": "https://localhost:8080/"
        },
        "id": "2h9gURJbUwYd",
        "outputId": "d2ddb224-854f-4f54-c252-e3c5ebe7785f"
      },
      "outputs": [
        {
          "output_type": "execute_result",
          "data": {
            "text/plain": [
              "dict_keys(['index_name', 'title', 'desc', 'created', 'updated', 'created_date', 'updated_date', 'active', 'visualizable', 'catalog_uuid', 'source', 'org_type', 'org', 'sector', 'field', 'target_bucket', 'message', 'version', 'status', 'total', 'count', 'limit', 'offset', 'records'])"
            ]
          },
          "metadata": {},
          "execution_count": 16
        }
      ],
      "source": [
        "# It contains 3 keys; the value for the 'rates' key is another dictionary\n",
        "response.json().keys()"
      ]
    },
    {
      "cell_type": "markdown",
      "metadata": {
        "id": "8KgFieVTUwYd"
      },
      "source": [
        "### Incorporating parameters in the GET request"
      ]
    },
    {
      "cell_type": "code",
      "execution_count": null,
      "metadata": {
        "colab": {
          "base_uri": "https://localhost:8080/",
          "height": 53
        },
        "id": "jA6DZGTBUwYe",
        "outputId": "ae115576-a809-4131-d64e-e37b88e3313c"
      },
      "outputs": [
        {
          "output_type": "execute_result",
          "data": {
            "text/plain": [
              "'https://api.data.gov.in/resource/6c0a9e43-360f-460b-91a1-02837d827f3a?api-key=579b464db66ec23bdd000001fc585ec4b0b848bc54294954b56a7de5%20&format=json&limit=1000'"
            ],
            "application/vnd.google.colaboratory.intrinsic+json": {
              "type": "string"
            }
          },
          "metadata": {},
          "execution_count": 24
        }
      ],
      "source": [
        "# Request parameters are added to the URL after a question mark '?'\n",
        "# In this case, we request for the exchange rates of the US Dollar (USD) and Pound Sterling (GBP) only\n",
        "param_url = base_url\n",
        "param_url"
      ]
    },
    {
      "cell_type": "code",
      "execution_count": null,
      "metadata": {
        "colab": {
          "base_uri": "https://localhost:8080/"
        },
        "id": "uBu9uhSEUwYe",
        "outputId": "ff2281f9-6fb8-4bab-9ec1-9a24ac5f586d"
      },
      "outputs": [
        {
          "output_type": "execute_result",
          "data": {
            "text/plain": [
              "200"
            ]
          },
          "metadata": {},
          "execution_count": 25
        }
      ],
      "source": [
        "# Making a request to the server with the new URL, containing the parameters\n",
        "response = requests.get(param_url)\n",
        "response.status_code"
      ]
    },
    {
      "cell_type": "code",
      "execution_count": null,
      "metadata": {
        "colab": {
          "base_uri": "https://localhost:8080/"
        },
        "id": "HWTReGOvUwYf",
        "outputId": "ed30952f-1987-4f00-8180-ad59e1a545e9"
      },
      "outputs": [
        {
          "output_type": "execute_result",
          "data": {
            "text/plain": [
              "{'active': '1',\n",
              " 'catalog_uuid': 'ac273ebc-aa3b-4d3d-8e1d-b89443412f96',\n",
              " 'count': 18,\n",
              " 'created': '1652959852515',\n",
              " 'created_date': '2022-05-19T17:01:14Z',\n",
              " 'desc': 'Top 15 Source Countries for Foreign Tourist Arrivals (FTAs) in India during 2019 & 2020',\n",
              " 'field': [{'id': 'rank_in_2019', 'name': 'Rank in 2019', 'type': 'keyword'},\n",
              "  {'id': 'country', 'name': 'Country', 'type': 'keyword'},\n",
              "  {'id': 'ftas_in_india_in_2019',\n",
              "   'name': 'FTAs in India in 2019',\n",
              "   'type': 'double'},\n",
              "  {'id': '_share_in_2019', 'name': '%Share in 2019', 'type': 'double'},\n",
              "  {'id': 'rank_in_2020', 'name': 'Rank in 2020', 'type': 'keyword'},\n",
              "  {'id': 'country', 'name': 'Country', 'type': 'keyword'},\n",
              "  {'id': 'ftas_in_india_in_2020',\n",
              "   'name': 'FTAs in India in 2020',\n",
              "   'type': 'double'},\n",
              "  {'id': '_share_in_2020', 'name': '%Share in 2020', 'type': 'double'}],\n",
              " 'index_name': '6c0a9e43-360f-460b-91a1-02837d827f3a',\n",
              " 'limit': '1000',\n",
              " 'message': 'Resource lists',\n",
              " 'offset': '0',\n",
              " 'org': ['Ministry of Tourism'],\n",
              " 'org_type': 'Central',\n",
              " 'records': [{'_share_in_2019': 23.6,\n",
              "   '_share_in_2020': 20,\n",
              "   'country': 'BANGLADESH',\n",
              "   'ftas_in_india_in_2019': 2577727,\n",
              "   'ftas_in_india_in_2020': 549273,\n",
              "   'rank_in_2019': '1',\n",
              "   'rank_in_2020': '1'},\n",
              "  {'_share_in_2019': 13.8,\n",
              "   '_share_in_2020': 14.4,\n",
              "   'country': 'UNITED STATES',\n",
              "   'ftas_in_india_in_2019': 1512032,\n",
              "   'ftas_in_india_in_2020': 394092,\n",
              "   'rank_in_2019': '2',\n",
              "   'rank_in_2020': '2'},\n",
              "  {'_share_in_2019': 9.2,\n",
              "   '_share_in_2020': 10.6,\n",
              "   'country': 'UNITED KINGDOM',\n",
              "   'ftas_in_india_in_2019': 1000292,\n",
              "   'ftas_in_india_in_2020': 291874,\n",
              "   'rank_in_2019': '3',\n",
              "   'rank_in_2020': '3'},\n",
              "  {'_share_in_2019': 3.4,\n",
              "   '_share_in_2020': 4.5,\n",
              "   'country': 'CANADA',\n",
              "   'ftas_in_india_in_2019': 367241,\n",
              "   'ftas_in_india_in_2020': 122868,\n",
              "   'rank_in_2019': '4',\n",
              "   'rank_in_2020': '4'},\n",
              "  {'_share_in_2019': 3.2,\n",
              "   '_share_in_2020': 3.7,\n",
              "   'country': 'RUSSIAN FEDERATION',\n",
              "   'ftas_in_india_in_2019': 351859,\n",
              "   'ftas_in_india_in_2020': 102166,\n",
              "   'rank_in_2019': '5',\n",
              "   'rank_in_2020': '5'},\n",
              "  {'_share_in_2019': 3.1,\n",
              "   '_share_in_2020': 3.2,\n",
              "   'country': 'AUSTRALIA',\n",
              "   'ftas_in_india_in_2019': 339442,\n",
              "   'ftas_in_india_in_2020': 86758,\n",
              "   'rank_in_2019': '6',\n",
              "   'rank_in_2020': '6'},\n",
              "  {'_share_in_2019': 3.1,\n",
              "   '_share_in_2020': 2.7,\n",
              "   'country': 'FRANCE',\n",
              "   'ftas_in_india_in_2019': 334579,\n",
              "   'ftas_in_india_in_2020': 74243,\n",
              "   'rank_in_2019': '7',\n",
              "   'rank_in_2020': '7'},\n",
              "  {'_share_in_2019': 3,\n",
              "   '_share_in_2020': 2.6,\n",
              "   'country': 'GERMANY',\n",
              "   'ftas_in_india_in_2019': 330861,\n",
              "   'ftas_in_india_in_2020': 72558,\n",
              "   'rank_in_2019': '8',\n",
              "   'rank_in_2020': '8'},\n",
              "  {'_share_in_2019': 2.4,\n",
              "   '_share_in_2020': 2.5,\n",
              "   'country': 'MALAYSIA',\n",
              "   'ftas_in_india_in_2019': 264973,\n",
              "   'ftas_in_india_in_2020': 69897,\n",
              "   'rank_in_2019': '9',\n",
              "   'rank_in_2020': '9'},\n",
              "  {'_share_in_2019': 2.3,\n",
              "   '_share_in_2020': 2.5,\n",
              "   'country': 'SRI LANKA',\n",
              "   'ftas_in_india_in_2019': 251319,\n",
              "   'ftas_in_india_in_2020': 68646,\n",
              "   'rank_in_2019': '10',\n",
              "   'rank_in_2020': '10'},\n",
              "  {'_share_in_2019': 2.3,\n",
              "   '_share_in_2020': 1.9,\n",
              "   'country': 'THAILAND',\n",
              "   'ftas_in_india_in_2019': 247238,\n",
              "   'ftas_in_india_in_2020': 52626,\n",
              "   'rank_in_2019': '11',\n",
              "   'rank_in_2020': '11'},\n",
              "  {'_share_in_2019': 2.2,\n",
              "   '_share_in_2020': 1.8,\n",
              "   'country': 'JAPAN',\n",
              "   'ftas_in_india_in_2019': 238903,\n",
              "   'ftas_in_india_in_2020': 48191,\n",
              "   'rank_in_2019': '12',\n",
              "   'rank_in_2020': '12'},\n",
              "  {'_share_in_2019': 1.7,\n",
              "   '_share_in_2020': 1.7,\n",
              "   'country': 'AFGHANISTAN',\n",
              "   'ftas_in_india_in_2019': 190089,\n",
              "   'ftas_in_india_in_2020': 47561,\n",
              "   'rank_in_2019': '13',\n",
              "   'rank_in_2020': '13'},\n",
              "  {'_share_in_2019': 1.6,\n",
              "   '_share_in_2020': 1.5,\n",
              "   'country': 'NEPAL',\n",
              "   'ftas_in_india_in_2019': 169956,\n",
              "   'ftas_in_india_in_2020': 40822,\n",
              "   'rank_in_2019': '14',\n",
              "   'rank_in_2020': '14'},\n",
              "  {'_share_in_2019': 1.5,\n",
              "   '_share_in_2020': 1.4,\n",
              "   'country': 'CHINA',\n",
              "   'ftas_in_india_in_2019': 164040,\n",
              "   'ftas_in_india_in_2020': 39586,\n",
              "   'rank_in_2019': '15',\n",
              "   'rank_in_2020': '15'},\n",
              "  {'_share_in_2019': 76.3,\n",
              "   '_share_in_2020': 75.1,\n",
              "   'country': 'Total Top 15 Countries',\n",
              "   'ftas_in_india_in_2019': 8340551,\n",
              "   'ftas_in_india_in_2020': 2061161,\n",
              "   'rank_in_2019': 'Total Top 15 Countries',\n",
              "   'rank_in_2020': 'Total Top 15 Countries'},\n",
              "  {'_share_in_2019': 23.7,\n",
              "   '_share_in_2020': 24.9,\n",
              "   'country': 'Other Countries',\n",
              "   'ftas_in_india_in_2019': 2589804,\n",
              "   'ftas_in_india_in_2020': 683605,\n",
              "   'rank_in_2019': 'Other Countries',\n",
              "   'rank_in_2020': 'Other Countries'},\n",
              "  {'_share_in_2019': 100,\n",
              "   '_share_in_2020': 100,\n",
              "   'country': 'Grand Total',\n",
              "   'ftas_in_india_in_2019': 10930355,\n",
              "   'ftas_in_india_in_2020': 2744766,\n",
              "   'rank_in_2019': 'Grand Total',\n",
              "   'rank_in_2020': 'Grand Total'}],\n",
              " 'sector': ['Travel and Tourism'],\n",
              " 'source': 'data.gov.in',\n",
              " 'status': 'ok',\n",
              " 'target_bucket': {'field': '6c0a9e43-360f-460b-91a1-02837d827f3a',\n",
              "  'index': 'api',\n",
              "  'type': 'ac273ebc-aa3b-4d3d-8e1d-b89443412f96'},\n",
              " 'title': 'Top 15 Source Countries for Foreign Tourist Arrivals (FTAs) in India during 2019 & 2020',\n",
              " 'total': 18,\n",
              " 'updated': 1652959880,\n",
              " 'updated_date': '2022-05-19T17:01:20Z',\n",
              " 'version': '2.2.0',\n",
              " 'visualizable': '1'}"
            ]
          },
          "metadata": {},
          "execution_count": 26
        }
      ],
      "source": [
        "# Saving the response data\n",
        "data = response.json()\n",
        "data"
      ]
    },
    {
      "cell_type": "code",
      "execution_count": null,
      "metadata": {
        "colab": {
          "base_uri": "https://localhost:8080/",
          "height": 35
        },
        "id": "syD0Ev_cUwYf",
        "outputId": "1acf0ca2-35d3-443f-cd0a-63987a7f1fe3"
      },
      "outputs": [
        {
          "output_type": "execute_result",
          "data": {
            "text/plain": [
              "'Resource lists'"
            ],
            "application/vnd.google.colaboratory.intrinsic+json": {
              "type": "string"
            }
          },
          "metadata": {},
          "execution_count": 27
        }
      ],
      "source": [
        "# 'data' is a dictionary\n",
        "data['message']"
      ]
    },
    {
      "cell_type": "code",
      "execution_count": null,
      "metadata": {
        "id": "dEZkdOOuUwYg",
        "colab": {
          "base_uri": "https://localhost:8080/",
          "height": 35
        },
        "outputId": "63634dc6-b25e-4f98-856f-182a8bcdb20f"
      },
      "outputs": [
        {
          "output_type": "execute_result",
          "data": {
            "text/plain": [
              "'1652959852515'"
            ],
            "application/vnd.google.colaboratory.intrinsic+json": {
              "type": "string"
            }
          },
          "metadata": {},
          "execution_count": 28
        }
      ],
      "source": [
        "data['created']"
      ]
    },
    {
      "cell_type": "code",
      "execution_count": null,
      "metadata": {
        "id": "BMTjgTwNUwYg"
      },
      "outputs": [],
      "source": [
        "# As per the documentation of this API, we can change the base with the parameter 'base'\n",
        "param_url = base_url + \"?symbols=GBP&base=USD\""
      ]
    },
    {
      "cell_type": "code",
      "execution_count": null,
      "metadata": {
        "id": "jzjdDm2pUwYh",
        "colab": {
          "base_uri": "https://localhost:8080/"
        },
        "outputId": "f4edfd56-eb62-4d14-abee-ca9850324ff8"
      },
      "outputs": [
        {
          "output_type": "execute_result",
          "data": {
            "text/plain": [
              "{'message': 'ERRORS',\n",
              " 'status': 'error',\n",
              " 'validation_errors': {'limit': 'The Limit should be integer or all.'}}"
            ]
          },
          "metadata": {},
          "execution_count": 30
        }
      ],
      "source": [
        "# Sending a request and saving the response JSON, all at once\n",
        "data = requests.get(param_url).json()\n",
        "data"
      ]
    },
    {
      "cell_type": "markdown",
      "metadata": {
        "id": "ImUCW49gUwYh"
      },
      "source": [
        "### Obtaining historical exchange rates"
      ]
    },
    {
      "cell_type": "code",
      "execution_count": null,
      "metadata": {
        "id": "mQBXErXaUwYh"
      },
      "outputs": [],
      "source": [
        "base_url = \"https://api.exchangeratesapi.io\""
      ]
    },
    {
      "cell_type": "code",
      "execution_count": null,
      "metadata": {
        "id": "jfWXYTZOUwYi",
        "colab": {
          "base_uri": "https://localhost:8080/",
          "height": 35
        },
        "outputId": "153f23c2-4fc1-4c7c-a54f-c2750fbff3c9"
      },
      "outputs": [
        {
          "output_type": "execute_result",
          "data": {
            "text/plain": [
              "'https://api.exchangeratesapi.io/2016-01-26'"
            ],
            "application/vnd.google.colaboratory.intrinsic+json": {
              "type": "string"
            }
          },
          "metadata": {},
          "execution_count": 32
        }
      ],
      "source": [
        "# We can also ask for the exhange rates at a particular day in the past with '/DATE', where DATE is in the format YYYY-MM-DD\n",
        "historical_url = base_url + \"/2016-01-26\"\n",
        "historical_url"
      ]
    },
    {
      "cell_type": "code",
      "execution_count": null,
      "metadata": {
        "id": "-5b8M7QiUwYi",
        "colab": {
          "base_uri": "https://localhost:8080/"
        },
        "outputId": "428ad8c9-5d4a-4346-c532-138ce236acdf"
      },
      "outputs": [
        {
          "output_type": "execute_result",
          "data": {
            "text/plain": [
              "200"
            ]
          },
          "metadata": {},
          "execution_count": 33
        }
      ],
      "source": [
        "# Making the GET request\n",
        "response = requests.get(historical_url)\n",
        "response.status_code"
      ]
    },
    {
      "cell_type": "code",
      "execution_count": null,
      "metadata": {
        "id": "qKGsJ8sdUwYi",
        "colab": {
          "base_uri": "https://localhost:8080/"
        },
        "outputId": "e62cc779-1e89-4885-8593-6bb8c69883f8"
      },
      "outputs": [
        {
          "output_type": "stream",
          "name": "stdout",
          "text": [
            "{\n",
            "    \"success\": false,\n",
            "    \"error\": {\n",
            "        \"code\": 101,\n",
            "        \"type\": \"missing_access_key\",\n",
            "        \"info\": \"You have not supplied an API Access Key. [Required format: access_key=YOUR_ACCESS_KEY]\"\n",
            "    }\n",
            "}\n"
          ]
        }
      ],
      "source": [
        "# Pretty printing the data\n",
        "data = response.json()\n",
        "print(json.dumps(data, indent=4))"
      ]
    },
    {
      "cell_type": "markdown",
      "metadata": {
        "id": "6I-esmDlUwYj"
      },
      "source": [
        "### Extracting data for a time period"
      ]
    },
    {
      "cell_type": "code",
      "execution_count": null,
      "metadata": {
        "id": "Lu3zaiQgUwYj"
      },
      "outputs": [],
      "source": [
        "# The last feautre of this API is: giving the historical exchange rates for every day over some time period"
      ]
    },
    {
      "cell_type": "code",
      "execution_count": null,
      "metadata": {
        "id": "AspSowztUwYj",
        "colab": {
          "base_uri": "https://localhost:8080/",
          "height": 35
        },
        "outputId": "a2b5175d-b56c-46a0-bbc4-73010a26dcb1"
      },
      "outputs": [
        {
          "output_type": "execute_result",
          "data": {
            "text/plain": [
              "'https://api.exchangeratesapi.io/history?start_at=2017-04-26&end_at=2018-04-26&symbols=GBP'"
            ],
            "application/vnd.google.colaboratory.intrinsic+json": {
              "type": "string"
            }
          },
          "metadata": {},
          "execution_count": 36
        }
      ],
      "source": [
        "# The URL for this request is formed with '/history' and the parameters 'start_at' and 'end_at'\n",
        "time_period = base_url + \"/history\" + \"?start_at=2017-04-26&end_at=2018-04-26\" + \"&symbols=GBP\"\n",
        "time_period"
      ]
    },
    {
      "cell_type": "code",
      "execution_count": null,
      "metadata": {
        "id": "ARxSzqXnUwYj"
      },
      "outputs": [],
      "source": [
        "# Extracting the response JSON object\n",
        "data = requests.get(time_period).json()"
      ]
    },
    {
      "cell_type": "code",
      "execution_count": null,
      "metadata": {
        "id": "K3iOOr4wUwYk",
        "colab": {
          "base_uri": "https://localhost:8080/"
        },
        "outputId": "b54114a5-3a58-406f-b02d-7e56424ec5bc"
      },
      "outputs": [
        {
          "output_type": "stream",
          "name": "stdout",
          "text": [
            "{\n",
            "    \"success\": false,\n",
            "    \"error\": {\n",
            "        \"code\": 101,\n",
            "        \"type\": \"missing_access_key\",\n",
            "        \"info\": \"You have not supplied an API Access Key. [Required format: access_key=YOUR_ACCESS_KEY]\"\n",
            "    }\n",
            "}\n"
          ]
        }
      ],
      "source": [
        "# Pretty printing the JSON\n",
        "# Notice that the dates are in random order\n",
        "print(json.dumps(data, indent=4))"
      ]
    },
    {
      "cell_type": "code",
      "execution_count": null,
      "metadata": {
        "scrolled": true,
        "id": "SJX2XMvDUwYk",
        "colab": {
          "base_uri": "https://localhost:8080/"
        },
        "outputId": "dd2b36c7-26d8-4c8d-fc1c-2354c7e7d926"
      },
      "outputs": [
        {
          "output_type": "stream",
          "name": "stdout",
          "text": [
            "{\n",
            "    \"error\": {\n",
            "        \"code\": 101,\n",
            "        \"info\": \"You have not supplied an API Access Key. [Required format: access_key=YOUR_ACCESS_KEY]\",\n",
            "        \"type\": \"missing_access_key\"\n",
            "    },\n",
            "    \"success\": false\n",
            "}\n"
          ]
        }
      ],
      "source": [
        "# We can use the 'sort_keys' parameter of the json.dumps() method to order these dates chronologically\n",
        "print(json.dumps(data, indent=4, sort_keys=True))"
      ]
    },
    {
      "cell_type": "code",
      "execution_count": null,
      "metadata": {
        "id": "LuCvPnQCUwYk"
      },
      "outputs": [],
      "source": [
        "# This data can then be used to plot the change in the exchange rate through time or any other further analysis"
      ]
    },
    {
      "cell_type": "markdown",
      "metadata": {
        "id": "1-auSuWfUwYk"
      },
      "source": [
        "### Testing the API response to incorrect input"
      ]
    },
    {
      "cell_type": "code",
      "execution_count": null,
      "metadata": {
        "id": "eRXCyZUEUwYl"
      },
      "outputs": [],
      "source": [
        "# Testing how the API behaves if given incorrect input parameters"
      ]
    },
    {
      "cell_type": "code",
      "execution_count": null,
      "metadata": {
        "id": "rSLyNhdTUwYl"
      },
      "outputs": [],
      "source": [
        "# Trying out an invalid DATE\n",
        "invalid_url = base_url + \"/2019-13-01\""
      ]
    },
    {
      "cell_type": "code",
      "execution_count": null,
      "metadata": {
        "id": "P-GCKVDQUwYl",
        "colab": {
          "base_uri": "https://localhost:8080/"
        },
        "outputId": "ccc91d85-1dda-4be0-ca36-11c2106a48c2"
      },
      "outputs": [
        {
          "output_type": "execute_result",
          "data": {
            "text/plain": [
              "200"
            ]
          },
          "metadata": {},
          "execution_count": 42
        }
      ],
      "source": [
        "# Making the request\n",
        "response = requests.get(invalid_url)\n",
        "response.status_code # The server responds with a 400 error code indicating a 'bad request'"
      ]
    },
    {
      "cell_type": "code",
      "execution_count": null,
      "metadata": {
        "id": "lbvJkNM0UwYl",
        "colab": {
          "base_uri": "https://localhost:8080/"
        },
        "outputId": "f74a1370-3212-44c0-82bd-bd2bf9b3fd10"
      },
      "outputs": [
        {
          "output_type": "execute_result",
          "data": {
            "text/plain": [
              "{'error': {'code': 101,\n",
              "  'info': 'You have not supplied an API Access Key. [Required format: access_key=YOUR_ACCESS_KEY]',\n",
              "  'type': 'missing_access_key'},\n",
              " 'success': False}"
            ]
          },
          "metadata": {},
          "execution_count": 43
        }
      ],
      "source": [
        "# There is also an error message in the JSON\n",
        "response.json()"
      ]
    },
    {
      "cell_type": "code",
      "execution_count": null,
      "metadata": {
        "id": "RKiMRXKRUwYl"
      },
      "outputs": [],
      "source": [
        "# Testing an invalid BASE CURRENCY\n",
        "invalid_url = base_url + \"/2019-12-01?base=USB\""
      ]
    },
    {
      "cell_type": "code",
      "execution_count": null,
      "metadata": {
        "id": "LSitZq39UwYm",
        "colab": {
          "base_uri": "https://localhost:8080/"
        },
        "outputId": "9bb1ee48-5347-4dc5-d20f-514967bd9c35"
      },
      "outputs": [
        {
          "output_type": "execute_result",
          "data": {
            "text/plain": [
              "200"
            ]
          },
          "metadata": {},
          "execution_count": 45
        }
      ],
      "source": [
        "response = requests.get(invalid_url)\n",
        "response.status_code"
      ]
    },
    {
      "cell_type": "code",
      "execution_count": null,
      "metadata": {
        "id": "N9cpWe6AUwYm",
        "colab": {
          "base_uri": "https://localhost:8080/"
        },
        "outputId": "a9a91cd7-c35b-4aac-9b0b-3aa8784fe0ac"
      },
      "outputs": [
        {
          "output_type": "execute_result",
          "data": {
            "text/plain": [
              "{'error': {'code': 101,\n",
              "  'info': 'You have not supplied an API Access Key. [Required format: access_key=YOUR_ACCESS_KEY]',\n",
              "  'type': 'missing_access_key'},\n",
              " 'success': False}"
            ]
          },
          "metadata": {},
          "execution_count": 46
        }
      ],
      "source": [
        "response.json()"
      ]
    },
    {
      "cell_type": "code",
      "execution_count": null,
      "metadata": {
        "id": "OnezL37YUwYm"
      },
      "outputs": [],
      "source": [
        "# Testing an invalid EXCHANGE CURRENCY\n",
        "invalid_url = base_url + \"/2019-12-01?symbols=WBP\""
      ]
    },
    {
      "cell_type": "code",
      "execution_count": null,
      "metadata": {
        "id": "Ifh8v_AXUwYm",
        "colab": {
          "base_uri": "https://localhost:8080/"
        },
        "outputId": "97cec457-842e-450d-e620-15b89effd433"
      },
      "outputs": [
        {
          "output_type": "execute_result",
          "data": {
            "text/plain": [
              "200"
            ]
          },
          "metadata": {},
          "execution_count": 48
        }
      ],
      "source": [
        "response = requests.get(invalid_url)\n",
        "response.status_code"
      ]
    },
    {
      "cell_type": "code",
      "execution_count": null,
      "metadata": {
        "id": "oYChqT39UwYm",
        "colab": {
          "base_uri": "https://localhost:8080/"
        },
        "outputId": "7b06f4b3-bfff-4846-cd0a-ec422745fafd"
      },
      "outputs": [
        {
          "output_type": "execute_result",
          "data": {
            "text/plain": [
              "{'error': {'code': 101,\n",
              "  'info': 'You have not supplied an API Access Key. [Required format: access_key=YOUR_ACCESS_KEY]',\n",
              "  'type': 'missing_access_key'},\n",
              " 'success': False}"
            ]
          },
          "metadata": {},
          "execution_count": 49
        }
      ],
      "source": [
        "response.json()"
      ]
    },
    {
      "cell_type": "markdown",
      "metadata": {
        "id": "qjSE5BOGUwYn"
      },
      "source": [
        "### Creating a simple currency convertor"
      ]
    },
    {
      "cell_type": "code",
      "execution_count": null,
      "metadata": {
        "id": "0YVb0lVgUwYn"
      },
      "outputs": [],
      "source": [
        "# We can use the data provided from this API to create a simple currency convertor"
      ]
    },
    {
      "cell_type": "code",
      "execution_count": null,
      "metadata": {
        "id": "Df1y4venUwYn"
      },
      "outputs": [],
      "source": [
        "# Gathering input parameters from the user\n",
        "date = input(\"Please enter the date (in the format 'yyyy-mm-dd' or 'latest'): \")\n",
        "base = input(\"Convert from (currency): \")\n",
        "curr = input(\"Convert to (currency): \")\n",
        "quan = float(input(\"How much {} do you want to convert: \".format(base)))\n",
        "\n",
        "# Constructing the URL based on the user parameters and sending a request to the server\n",
        "url = base_url + \"/\" + date + \"?base=\" + base + \"&symbols=\" + curr\n",
        "response = requests.get(url)\n",
        "\n",
        "# Displaying the error message, if something went wrong\n",
        "if(response.ok is False):\n",
        "    print(\"\\nError {}:\".format(response.status_code))\n",
        "    print(response.json()['error'])\n",
        "\n",
        "else:\n",
        "    data = response.json()\n",
        "    rate = data['rates'][curr]\n",
        "    \n",
        "    result = quan*rate\n",
        "    \n",
        "    print(\"\\n{0} {1} is equal to {2} {3}, based upon exchange rates on {4}\".format(quan,base,result,curr,data['date']))\n"
      ]
    }
  ],
  "metadata": {
    "kernelspec": {
      "display_name": "Python 3",
      "language": "python",
      "name": "python3"
    },
    "language_info": {
      "codemirror_mode": {
        "name": "ipython",
        "version": 3
      },
      "file_extension": ".py",
      "mimetype": "text/x-python",
      "name": "python",
      "nbconvert_exporter": "python",
      "pygments_lexer": "ipython3",
      "version": "3.7.3"
    },
    "colab": {
      "name": "APIs complete",
      "provenance": [],
      "collapsed_sections": [
        "8KgFieVTUwYd",
        "ImUCW49gUwYh",
        "6I-esmDlUwYj",
        "1-auSuWfUwYk",
        "qjSE5BOGUwYn"
      ],
      "include_colab_link": true
    }
  },
  "nbformat": 4,
  "nbformat_minor": 0
}